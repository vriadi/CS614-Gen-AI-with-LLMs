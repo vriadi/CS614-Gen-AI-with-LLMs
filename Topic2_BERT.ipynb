{
  "nbformat": 4,
  "nbformat_minor": 0,
  "metadata": {
    "colab": {
      "provenance": [],
      "authorship_tag": "ABX9TyPC1jPLbTiRq1e4U6rLnfxW",
      "include_colab_link": true
    },
    "kernelspec": {
      "name": "python3",
      "display_name": "Python 3"
    },
    "language_info": {
      "name": "python"
    },
    "widgets": {
      "application/vnd.jupyter.widget-state+json": {
        "b63239451d324b5eb4546d9fbc15b2fa": {
          "model_module": "@jupyter-widgets/controls",
          "model_name": "HBoxModel",
          "model_module_version": "1.5.0",
          "state": {
            "_dom_classes": [],
            "_model_module": "@jupyter-widgets/controls",
            "_model_module_version": "1.5.0",
            "_model_name": "HBoxModel",
            "_view_count": null,
            "_view_module": "@jupyter-widgets/controls",
            "_view_module_version": "1.5.0",
            "_view_name": "HBoxView",
            "box_style": "",
            "children": [
              "IPY_MODEL_2d8854f82dea46089cc51c088a26e4b8",
              "IPY_MODEL_a62713b230f34329be00307d341e1ccf",
              "IPY_MODEL_2b68a8cba8084a4eb9bb6811cd9331e4"
            ],
            "layout": "IPY_MODEL_ee83a8d0e18b43e49e2b79d80904453d"
          }
        },
        "2d8854f82dea46089cc51c088a26e4b8": {
          "model_module": "@jupyter-widgets/controls",
          "model_name": "HTMLModel",
          "model_module_version": "1.5.0",
          "state": {
            "_dom_classes": [],
            "_model_module": "@jupyter-widgets/controls",
            "_model_module_version": "1.5.0",
            "_model_name": "HTMLModel",
            "_view_count": null,
            "_view_module": "@jupyter-widgets/controls",
            "_view_module_version": "1.5.0",
            "_view_name": "HTMLView",
            "description": "",
            "description_tooltip": null,
            "layout": "IPY_MODEL_367bb8eff081475ca143b47b748954cf",
            "placeholder": "​",
            "style": "IPY_MODEL_5d98f3d2c2824a9e9edc4f00a83d5550",
            "value": "model.safetensors: 100%"
          }
        },
        "a62713b230f34329be00307d341e1ccf": {
          "model_module": "@jupyter-widgets/controls",
          "model_name": "FloatProgressModel",
          "model_module_version": "1.5.0",
          "state": {
            "_dom_classes": [],
            "_model_module": "@jupyter-widgets/controls",
            "_model_module_version": "1.5.0",
            "_model_name": "FloatProgressModel",
            "_view_count": null,
            "_view_module": "@jupyter-widgets/controls",
            "_view_module_version": "1.5.0",
            "_view_name": "ProgressView",
            "bar_style": "success",
            "description": "",
            "description_tooltip": null,
            "layout": "IPY_MODEL_532dca854ca74f0ebd44eaf47318bd83",
            "max": 435755784,
            "min": 0,
            "orientation": "horizontal",
            "style": "IPY_MODEL_fa03621af1654ee6bc7fda45cbddb495",
            "value": 435755784
          }
        },
        "2b68a8cba8084a4eb9bb6811cd9331e4": {
          "model_module": "@jupyter-widgets/controls",
          "model_name": "HTMLModel",
          "model_module_version": "1.5.0",
          "state": {
            "_dom_classes": [],
            "_model_module": "@jupyter-widgets/controls",
            "_model_module_version": "1.5.0",
            "_model_name": "HTMLModel",
            "_view_count": null,
            "_view_module": "@jupyter-widgets/controls",
            "_view_module_version": "1.5.0",
            "_view_name": "HTMLView",
            "description": "",
            "description_tooltip": null,
            "layout": "IPY_MODEL_c99d157ef8ee48a1a894e8e752e3ddb3",
            "placeholder": "​",
            "style": "IPY_MODEL_31a9f57f0b6b4a768a6dfe2fbdb73d8c",
            "value": " 436M/436M [00:16&lt;00:00, 29.2MB/s]"
          }
        },
        "ee83a8d0e18b43e49e2b79d80904453d": {
          "model_module": "@jupyter-widgets/base",
          "model_name": "LayoutModel",
          "model_module_version": "1.2.0",
          "state": {
            "_model_module": "@jupyter-widgets/base",
            "_model_module_version": "1.2.0",
            "_model_name": "LayoutModel",
            "_view_count": null,
            "_view_module": "@jupyter-widgets/base",
            "_view_module_version": "1.2.0",
            "_view_name": "LayoutView",
            "align_content": null,
            "align_items": null,
            "align_self": null,
            "border": null,
            "bottom": null,
            "display": null,
            "flex": null,
            "flex_flow": null,
            "grid_area": null,
            "grid_auto_columns": null,
            "grid_auto_flow": null,
            "grid_auto_rows": null,
            "grid_column": null,
            "grid_gap": null,
            "grid_row": null,
            "grid_template_areas": null,
            "grid_template_columns": null,
            "grid_template_rows": null,
            "height": null,
            "justify_content": null,
            "justify_items": null,
            "left": null,
            "margin": null,
            "max_height": null,
            "max_width": null,
            "min_height": null,
            "min_width": null,
            "object_fit": null,
            "object_position": null,
            "order": null,
            "overflow": null,
            "overflow_x": null,
            "overflow_y": null,
            "padding": null,
            "right": null,
            "top": null,
            "visibility": null,
            "width": null
          }
        },
        "367bb8eff081475ca143b47b748954cf": {
          "model_module": "@jupyter-widgets/base",
          "model_name": "LayoutModel",
          "model_module_version": "1.2.0",
          "state": {
            "_model_module": "@jupyter-widgets/base",
            "_model_module_version": "1.2.0",
            "_model_name": "LayoutModel",
            "_view_count": null,
            "_view_module": "@jupyter-widgets/base",
            "_view_module_version": "1.2.0",
            "_view_name": "LayoutView",
            "align_content": null,
            "align_items": null,
            "align_self": null,
            "border": null,
            "bottom": null,
            "display": null,
            "flex": null,
            "flex_flow": null,
            "grid_area": null,
            "grid_auto_columns": null,
            "grid_auto_flow": null,
            "grid_auto_rows": null,
            "grid_column": null,
            "grid_gap": null,
            "grid_row": null,
            "grid_template_areas": null,
            "grid_template_columns": null,
            "grid_template_rows": null,
            "height": null,
            "justify_content": null,
            "justify_items": null,
            "left": null,
            "margin": null,
            "max_height": null,
            "max_width": null,
            "min_height": null,
            "min_width": null,
            "object_fit": null,
            "object_position": null,
            "order": null,
            "overflow": null,
            "overflow_x": null,
            "overflow_y": null,
            "padding": null,
            "right": null,
            "top": null,
            "visibility": null,
            "width": null
          }
        },
        "5d98f3d2c2824a9e9edc4f00a83d5550": {
          "model_module": "@jupyter-widgets/controls",
          "model_name": "DescriptionStyleModel",
          "model_module_version": "1.5.0",
          "state": {
            "_model_module": "@jupyter-widgets/controls",
            "_model_module_version": "1.5.0",
            "_model_name": "DescriptionStyleModel",
            "_view_count": null,
            "_view_module": "@jupyter-widgets/base",
            "_view_module_version": "1.2.0",
            "_view_name": "StyleView",
            "description_width": ""
          }
        },
        "532dca854ca74f0ebd44eaf47318bd83": {
          "model_module": "@jupyter-widgets/base",
          "model_name": "LayoutModel",
          "model_module_version": "1.2.0",
          "state": {
            "_model_module": "@jupyter-widgets/base",
            "_model_module_version": "1.2.0",
            "_model_name": "LayoutModel",
            "_view_count": null,
            "_view_module": "@jupyter-widgets/base",
            "_view_module_version": "1.2.0",
            "_view_name": "LayoutView",
            "align_content": null,
            "align_items": null,
            "align_self": null,
            "border": null,
            "bottom": null,
            "display": null,
            "flex": null,
            "flex_flow": null,
            "grid_area": null,
            "grid_auto_columns": null,
            "grid_auto_flow": null,
            "grid_auto_rows": null,
            "grid_column": null,
            "grid_gap": null,
            "grid_row": null,
            "grid_template_areas": null,
            "grid_template_columns": null,
            "grid_template_rows": null,
            "height": null,
            "justify_content": null,
            "justify_items": null,
            "left": null,
            "margin": null,
            "max_height": null,
            "max_width": null,
            "min_height": null,
            "min_width": null,
            "object_fit": null,
            "object_position": null,
            "order": null,
            "overflow": null,
            "overflow_x": null,
            "overflow_y": null,
            "padding": null,
            "right": null,
            "top": null,
            "visibility": null,
            "width": null
          }
        },
        "fa03621af1654ee6bc7fda45cbddb495": {
          "model_module": "@jupyter-widgets/controls",
          "model_name": "ProgressStyleModel",
          "model_module_version": "1.5.0",
          "state": {
            "_model_module": "@jupyter-widgets/controls",
            "_model_module_version": "1.5.0",
            "_model_name": "ProgressStyleModel",
            "_view_count": null,
            "_view_module": "@jupyter-widgets/base",
            "_view_module_version": "1.2.0",
            "_view_name": "StyleView",
            "bar_color": null,
            "description_width": ""
          }
        },
        "c99d157ef8ee48a1a894e8e752e3ddb3": {
          "model_module": "@jupyter-widgets/base",
          "model_name": "LayoutModel",
          "model_module_version": "1.2.0",
          "state": {
            "_model_module": "@jupyter-widgets/base",
            "_model_module_version": "1.2.0",
            "_model_name": "LayoutModel",
            "_view_count": null,
            "_view_module": "@jupyter-widgets/base",
            "_view_module_version": "1.2.0",
            "_view_name": "LayoutView",
            "align_content": null,
            "align_items": null,
            "align_self": null,
            "border": null,
            "bottom": null,
            "display": null,
            "flex": null,
            "flex_flow": null,
            "grid_area": null,
            "grid_auto_columns": null,
            "grid_auto_flow": null,
            "grid_auto_rows": null,
            "grid_column": null,
            "grid_gap": null,
            "grid_row": null,
            "grid_template_areas": null,
            "grid_template_columns": null,
            "grid_template_rows": null,
            "height": null,
            "justify_content": null,
            "justify_items": null,
            "left": null,
            "margin": null,
            "max_height": null,
            "max_width": null,
            "min_height": null,
            "min_width": null,
            "object_fit": null,
            "object_position": null,
            "order": null,
            "overflow": null,
            "overflow_x": null,
            "overflow_y": null,
            "padding": null,
            "right": null,
            "top": null,
            "visibility": null,
            "width": null
          }
        },
        "31a9f57f0b6b4a768a6dfe2fbdb73d8c": {
          "model_module": "@jupyter-widgets/controls",
          "model_name": "DescriptionStyleModel",
          "model_module_version": "1.5.0",
          "state": {
            "_model_module": "@jupyter-widgets/controls",
            "_model_module_version": "1.5.0",
            "_model_name": "DescriptionStyleModel",
            "_view_count": null,
            "_view_module": "@jupyter-widgets/base",
            "_view_module_version": "1.2.0",
            "_view_name": "StyleView",
            "description_width": ""
          }
        }
      }
    }
  },
  "cells": [
    {
      "cell_type": "markdown",
      "metadata": {
        "id": "view-in-github",
        "colab_type": "text"
      },
      "source": [
        "<a href=\"https://colab.research.google.com/github/vriadi/CS614-Gen-AI-with-LLMs/blob/main/Topic2_BERT.ipynb\" target=\"_parent\"><img src=\"https://colab.research.google.com/assets/colab-badge.svg\" alt=\"Open In Colab\"/></a>"
      ]
    },
    {
      "cell_type": "code",
      "execution_count": null,
      "metadata": {
        "id": "QPYir3NalPxG"
      },
      "outputs": [],
      "source": [
        "import transformers\n",
        "from transformers import AutoTokenizer, AutoModel\n",
        "\n",
        "model_name = \"bert-base-cased\"\n",
        "tokenizer = AutoTokenizer.from_pretrained(model_name)\n"
      ]
    },
    {
      "cell_type": "code",
      "source": [
        "model = transformers.BertModel.from_pretrained(\"bert-base-cased\")"
      ],
      "metadata": {
        "colab": {
          "base_uri": "https://localhost:8080/",
          "height": 49,
          "referenced_widgets": [
            "b63239451d324b5eb4546d9fbc15b2fa",
            "2d8854f82dea46089cc51c088a26e4b8",
            "a62713b230f34329be00307d341e1ccf",
            "2b68a8cba8084a4eb9bb6811cd9331e4",
            "ee83a8d0e18b43e49e2b79d80904453d",
            "367bb8eff081475ca143b47b748954cf",
            "5d98f3d2c2824a9e9edc4f00a83d5550",
            "532dca854ca74f0ebd44eaf47318bd83",
            "fa03621af1654ee6bc7fda45cbddb495",
            "c99d157ef8ee48a1a894e8e752e3ddb3",
            "31a9f57f0b6b4a768a6dfe2fbdb73d8c"
          ]
        },
        "id": "z54g81G6n7UO",
        "outputId": "f98977c9-9fe6-4f90-c087-46618a29cda9"
      },
      "execution_count": null,
      "outputs": [
        {
          "output_type": "display_data",
          "data": {
            "text/plain": [
              "model.safetensors:   0%|          | 0.00/436M [00:00<?, ?B/s]"
            ],
            "application/vnd.jupyter.widget-view+json": {
              "version_major": 2,
              "version_minor": 0,
              "model_id": "b63239451d324b5eb4546d9fbc15b2fa"
            }
          },
          "metadata": {}
        }
      ]
    },
    {
      "cell_type": "code",
      "source": [
        " embedding_layer = model.embeddings"
      ],
      "metadata": {
        "id": "_9sVI5gHn7L1"
      },
      "execution_count": null,
      "outputs": []
    },
    {
      "cell_type": "code",
      "source": [
        "word_embeddings = embedding_layer.word_embeddings"
      ],
      "metadata": {
        "id": "pMJEeqpYotuD"
      },
      "execution_count": null,
      "outputs": []
    },
    {
      "cell_type": "code",
      "source": [
        "word1 = 'red'\n",
        "print(tokenizer(word1))"
      ],
      "metadata": {
        "colab": {
          "base_uri": "https://localhost:8080/"
        },
        "id": "YrTO6_k_ljCD",
        "outputId": "2c4f314b-858b-4c7c-fae1-6128304ba549"
      },
      "execution_count": null,
      "outputs": [
        {
          "output_type": "stream",
          "name": "stdout",
          "text": [
            "{'input_ids': [101, 1894, 102], 'token_type_ids': [0, 0, 0], 'attention_mask': [1, 1, 1]}\n"
          ]
        }
      ]
    },
    {
      "cell_type": "markdown",
      "source": [
        "101 is CLS <br>\n",
        "102 is SEP"
      ],
      "metadata": {
        "id": "vbYlxWxNmbsg"
      }
    },
    {
      "cell_type": "code",
      "source": [
        "word2 = 'pink'\n",
        "print(tokenizer(word2))"
      ],
      "metadata": {
        "colab": {
          "base_uri": "https://localhost:8080/"
        },
        "id": "tQHER8EDli_j",
        "outputId": "a8ae9f6f-66ab-451d-e090-eb1a2c969560"
      },
      "execution_count": null,
      "outputs": [
        {
          "output_type": "stream",
          "name": "stdout",
          "text": [
            "{'input_ids': [101, 5325, 102], 'token_type_ids': [0, 0, 0], 'attention_mask': [1, 1, 1]}\n"
          ]
        }
      ]
    },
    {
      "cell_type": "markdown",
      "source": [
        "Now, let's compute cosine similarity of the words"
      ],
      "metadata": {
        "id": "lsWa68GgmOJU"
      }
    },
    {
      "cell_type": "code",
      "source": [
        "import numpy as np\n",
        "from sklearn.metrics.pairwise import cosine_similarity"
      ],
      "metadata": {
        "id": "2wDsKbJkli9C"
      },
      "execution_count": null,
      "outputs": []
    },
    {
      "cell_type": "code",
      "source": [
        "token_ids1 = tokenizer.encode(word1, add_special_tokens=False)\n",
        "token_ids2 = tokenizer.encode(word2, add_special_tokens=False)"
      ],
      "metadata": {
        "id": "-IfIh05Qm-uF"
      },
      "execution_count": null,
      "outputs": []
    },
    {
      "cell_type": "code",
      "source": [
        "# Re-select embeddings from embeddings layer without the extra tokens this time\n",
        "embedding1 = embedding_layer.word_embeddings.weight[token_ids1]\n",
        "embedding2 = embedding_layer.word_embeddings.weight[token_ids2]\n",
        "# Convert tensors to NumPy arrays and squeeze result to remove extra dimensions\n",
        "embedding1 = embedding1.squeeze().detach().numpy()\n",
        "embedding2 = embedding2.squeeze().detach().numpy()"
      ],
      "metadata": {
        "id": "Pqmb-6U2m1vC"
      },
      "execution_count": null,
      "outputs": []
    },
    {
      "cell_type": "markdown",
      "source": [
        "remove CLS and SEP tokens for this computation"
      ],
      "metadata": {
        "id": "yyVtOLTqmslM"
      }
    },
    {
      "cell_type": "code",
      "source": [
        "# Norms of the embeddings\n",
        "magnitude1 = np.linalg.norm(embedding1)\n",
        "magnitude2 = np.linalg.norm(embedding2)\n",
        "\n",
        "# Cosine similarity\n",
        "cosine_sim = np.dot(embedding1, embedding2) / (magnitude1 * magnitude2)"
      ],
      "metadata": {
        "id": "ILLWpHMQoPHO"
      },
      "execution_count": null,
      "outputs": []
    },
    {
      "cell_type": "code",
      "source": [
        "cosine_sim = cosine_similarity([embedding1], [embedding2])\n",
        "print(f\"Cosine sim of '{word1}' and '{word2}': {cosine_sim}\")"
      ],
      "metadata": {
        "colab": {
          "base_uri": "https://localhost:8080/"
        },
        "id": "HPCJLFxrli2S",
        "outputId": "b95552dc-2c2b-4c39-a968-cad37b93ce17"
      },
      "execution_count": null,
      "outputs": [
        {
          "output_type": "stream",
          "name": "stdout",
          "text": [
            "Cosine sim of 'red' and 'pink': [[0.54829156]]\n"
          ]
        }
      ]
    },
    {
      "cell_type": "markdown",
      "source": [
        "Let's use more than just a word and see benefit of the attention mechanism"
      ],
      "metadata": {
        "id": "OYU_hxmppd0q"
      }
    },
    {
      "cell_type": "code",
      "source": [
        "import torch, transformers\n",
        "import numpy as np\n",
        "from sklearn.metrics.pairwise import cosine_similarity\n",
        "from transformers import AutoTokenizer, AutoModel\n",
        "\n",
        "model_name = \"bert-base-cased\"\n",
        "tokenizer = AutoTokenizer.from_pretrained(model_name)\n",
        "model = transformers.BertModel.from_pretrained(\"bert-base-cased\")\n",
        "embedding_layer = model.embeddings"
      ],
      "metadata": {
        "id": "FFj7S7Qgltjr"
      },
      "execution_count": null,
      "outputs": []
    },
    {
      "cell_type": "code",
      "source": [
        "sent1 = \"I love animals, generally all of them.\"\n",
        "sent2 = \"But I don't really like creepy crawlies.\""
      ],
      "metadata": {
        "id": "f2hTMWxhlthD"
      },
      "execution_count": null,
      "outputs": []
    },
    {
      "cell_type": "code",
      "source": [
        "tokens_sent1 = tokenizer.encode(sent1)\n",
        "tokens_sent2 = tokenizer.encode(sent2)"
      ],
      "metadata": {
        "id": "kiuru6shlteV"
      },
      "execution_count": null,
      "outputs": []
    },
    {
      "cell_type": "code",
      "source": [
        "s_embedding1 = embedding_layer.word_embeddings.weight[tokens_sent1].mean(dim=0).squeeze().detach().numpy()\n",
        "s_embedding2 = embedding_layer.word_embeddings.weight[tokens_sent2].mean(dim=0).squeeze().detach().numpy()"
      ],
      "metadata": {
        "id": "TrwLLXrlltZA"
      },
      "execution_count": null,
      "outputs": []
    },
    {
      "cell_type": "code",
      "source": [
        "cosine_sim_static = cosine_similarity([s_embedding1], [s_embedding2])\n",
        "\n",
        "print(f\"Cosine sim of \\n'{sent1}'\\n and '{sent2}'\\n is: {cosine_sim_static}\")"
      ],
      "metadata": {
        "colab": {
          "base_uri": "https://localhost:8080/"
        },
        "id": "wSFGxe-6qN-q",
        "outputId": "d78f1221-d23f-4a23-d15b-17df5da0507e"
      },
      "execution_count": null,
      "outputs": [
        {
          "output_type": "stream",
          "name": "stdout",
          "text": [
            "Cosine sim of \n",
            "'I love animals, generally all of them.'\n",
            " and 'But I don't really like creepy crawlies.'\n",
            " is: [[0.58911043]]\n"
          ]
        }
      ]
    },
    {
      "cell_type": "code",
      "source": [
        "sent_ids1 = tokenizer(sent1, return_tensors=\"pt\", padding=True)\n",
        "sent_ids2 = tokenizer(sent2, return_tensors=\"pt\", padding=True)\n",
        "with torch.no_grad():\n",
        "  outputs1 = model(**sent_ids1)\n",
        "  outputs2 = model(**sent_ids2)\n",
        "s_embedding3 = outputs1.last_hidden_state.mean(dim=1).squeeze().numpy()\n",
        "s_embedding4 = outputs2.last_hidden_state.mean(dim=1).squeeze().numpy()\n",
        "\n",
        "cosine_sim_mean = cosine_similarity([s_embedding3], [s_embedding4])\n",
        "\n",
        "print(f\"Cosine sim with BERT forward is {cosine_sim_mean} \\n\"\n",
        "      f\"With STATIC embeddings it was {cosine_sim_static}\")"
      ],
      "metadata": {
        "colab": {
          "base_uri": "https://localhost:8080/"
        },
        "id": "mfM27kmmq5XR",
        "outputId": "31b0d9db-86ab-4a88-fa8f-009f5dbc1842"
      },
      "execution_count": null,
      "outputs": [
        {
          "output_type": "stream",
          "name": "stdout",
          "text": [
            "Cosine sim with BERT forward is [[0.8429634]] \n",
            "With STATIC embeddings it was [[0.58911043]]\n"
          ]
        }
      ]
    }
  ]
}